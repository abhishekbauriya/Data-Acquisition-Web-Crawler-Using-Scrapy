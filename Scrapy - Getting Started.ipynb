{
 "cells": [
  {
   "cell_type": "markdown",
   "id": "unique-retirement",
   "metadata": {},
   "source": [
    "# Scarpy"
   ]
  },
  {
   "cell_type": "markdown",
   "id": "super-senegal",
   "metadata": {},
   "source": [
    "- An open source and collaborative framework for extracting the data you need from websites"
   ]
  },
  {
   "cell_type": "markdown",
   "id": "neither-drive",
   "metadata": {},
   "source": [
    "### Installation"
   ]
  },
  {
   "cell_type": "markdown",
   "id": "processed-crazy",
   "metadata": {},
   "source": [
    "- pip install scrapy"
   ]
  },
  {
   "cell_type": "markdown",
   "id": "portable-discipline",
   "metadata": {},
   "source": [
    "Dependency - Microsoft Visual C++ Build Tools --->https://www.scivision.dev/python-windows-visual-c-14-required\n",
    "If you get an error, due to rc.exe refer the following Stackoverflow link."
   ]
  },
  {
   "cell_type": "code",
   "execution_count": 2,
   "id": "radical-newport",
   "metadata": {},
   "outputs": [
    {
     "name": "stdout",
     "output_type": "stream",
     "text": [
      "New Scrapy project 'myproject', using template directory 'c:\\users\\abhishek-pc\\appdata\\local\\programs\\python\\python39\\lib\\site-packages\\scrapy\\templates\\project', created in:\n",
      "    E:\\coding_blocks_python_master_developer\\Basics of Python\\Data Acquisition - Web Crawler using Scrapy\\myproject\n",
      "\n",
      "You can start your first spider with:\n",
      "    cd myproject\n",
      "    scrapy genspider example example.com\n"
     ]
    }
   ],
   "source": [
    "!scrapy startproject myproject"
   ]
  },
  {
   "cell_type": "code",
   "execution_count": null,
   "id": "accepting-browse",
   "metadata": {},
   "outputs": [],
   "source": []
  }
 ],
 "metadata": {
  "kernelspec": {
   "display_name": "Python 3",
   "language": "python",
   "name": "python3"
  },
  "language_info": {
   "codemirror_mode": {
    "name": "ipython",
    "version": 3
   },
   "file_extension": ".py",
   "mimetype": "text/x-python",
   "name": "python",
   "nbconvert_exporter": "python",
   "pygments_lexer": "ipython3",
   "version": "3.9.1"
  }
 },
 "nbformat": 4,
 "nbformat_minor": 5
}
