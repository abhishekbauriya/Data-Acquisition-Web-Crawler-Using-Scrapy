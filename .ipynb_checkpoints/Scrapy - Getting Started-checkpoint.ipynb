{
 "cells": [
  {
   "cell_type": "markdown",
   "id": "dress-bulletin",
   "metadata": {},
   "source": [
    "# Scarpy"
   ]
  },
  {
   "cell_type": "markdown",
   "id": "alternative-paradise",
   "metadata": {},
   "source": [
    "- An open source and collaborative framework for extracting the data you need from websites"
   ]
  },
  {
   "cell_type": "markdown",
   "id": "interior-pantyhose",
   "metadata": {},
   "source": [
    "### Installation"
   ]
  },
  {
   "cell_type": "markdown",
   "id": "bottom-trademark",
   "metadata": {},
   "source": [
    "- pip install scrapy"
   ]
  },
  {
   "cell_type": "markdown",
   "id": "boolean-ideal",
   "metadata": {},
   "source": [
    "Dependency - Microsoft Visual C++ Build Tools --->https://www.scivision.dev/python-windows-visual-c-14-required\n",
    "If you get an error, due to rc.exe refer the following Stackoverflow link."
   ]
  },
  {
   "cell_type": "code",
   "execution_count": null,
   "id": "ultimate-depth",
   "metadata": {},
   "outputs": [],
   "source": []
  }
 ],
 "metadata": {
  "kernelspec": {
   "display_name": "Python 3",
   "language": "python",
   "name": "python3"
  },
  "language_info": {
   "codemirror_mode": {
    "name": "ipython",
    "version": 3
   },
   "file_extension": ".py",
   "mimetype": "text/x-python",
   "name": "python",
   "nbconvert_exporter": "python",
   "pygments_lexer": "ipython3",
   "version": "3.9.1"
  }
 },
 "nbformat": 4,
 "nbformat_minor": 5
}
